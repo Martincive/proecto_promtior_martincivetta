{
 "cells": [
  {
   "cell_type": "code",
   "execution_count": 31,
   "metadata": {},
   "outputs": [],
   "source": [
    "LANGCHAIN_ENDPOINT=\"https://api.smith.langchain.com\"\n",
    "LANGCHAIN_API_KEY=\"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\"\n",
    "LANGCHAIN_PROJECT=\"pr-essential-depot-5\"\n",
    "\n",
    "\n",
    "import os\n",
    "\n",
    "os.environ[\"LANGCHAIN_TRACING_V2\"] = \"true\"\n",
    "os.environ[\"LANGCHAIN_API_KEY\"] = LANGCHAIN_API_KEY\n",
    "file_path = (\n",
    "    \"./AI_Engineer.pdf\"\n",
    ")"
   ]
  },
  {
   "cell_type": "code",
   "execution_count": null,
   "metadata": {},
   "outputs": [],
   "source": [
    "\n",
    "from langchain_ollama.llms import OllamaLLM\n",
    "llm = OllamaLLM(model='llama3.2', host = \"localhost\", port = 11434)\n",
    "\n"
   ]
  },
  {
   "cell_type": "code",
   "execution_count": null,
   "metadata": {},
   "outputs": [
    {
     "name": "stdout",
     "output_type": "stream",
     "text": [
      "Promtior offers customized GenAI solutions for businesses, including discovery and development, implementation, predictive analytics, intelligent automation, and more. They help companies achieve efficiency in their operational processes through tailored GenAI solutions. Promtior also delivers complete GenAI solutions from ideation to implementation.\n",
      "I don't know when the company was founded, as this information is not provided in the context. However, I do know that Promtior, one of the organizations mentioned, was founded in May 2023. The exact founding date of Promtior is not specified.\n"
     ]
    }
   ],
   "source": [
    "from langchain import hub\n",
    "from langserve import langserve, AnswerEndpoint\n",
    "from langchain_chroma import Chroma\n",
    "from langchain_community.document_loaders import WebBaseLoader\n",
    "from langchain_core.output_parsers import StrOutputParser\n",
    "from langchain_core.runnables import RunnablePassthrough\n",
    "from langchain_text_splitters import RecursiveCharacterTextSplitter\n",
    "from langchain_huggingface import HuggingFaceEmbeddings\n",
    "from langchain_community.document_loaders import PyPDFLoader\n",
    "from langchain.docstore.document import Document\n",
    "\n",
    "\n",
    "pdf_loader = PyPDFLoader(file_path)\n",
    "pages = []\n",
    "async for page in pdf_loader.alazy_load():\n",
    "    pages.append(page)\n",
    "    \n",
    "web_loader = WebBaseLoader(\n",
    "    web_paths=(\"https://www.promtior.ai/service/\", \"https://www.promtior.ai\",), \n",
    ")\n",
    "\n",
    "\n",
    "            \n",
    "\n",
    "\n",
    "\n",
    "docs =  pages + web_loader.load() \n",
    "text_splitter = RecursiveCharacterTextSplitter(chunk_size=1000, chunk_overlap=200)\n",
    "splits = text_splitter.split_documents(docs)\n",
    "\n",
    "embedding_model = HuggingFaceEmbeddings(model_name=\"sentence-transformers/all-MiniLM-L6-v2\")\n",
    "vectorstore = Chroma.from_documents(documents=splits, embedding=embedding_model)\n",
    "\n",
    "retriever = vectorstore.as_retriever()\n",
    "prompt = hub.pull(\"rlm/rag-prompt\")\n",
    "\n",
    "\n",
    "def format_docs(docs):\n",
    "    return \"\\n\\n\".join(doc.page_content for doc in docs)\n",
    "\n",
    "\n",
    "rag_chain = (\n",
    "   {\"context\": retriever | format_docs, \"question\": RunnablePassthrough()}\n",
    "   | prompt\n",
    "   | llm\n",
    "   | StrOutputParser()\n",
    ")\n",
    "\n",
    "def answer_question(question: str):\n",
    "    response = rag_chain.invoke(question)\n",
    "    return response\n",
    "\n",
    "vectorstore.delete_collection()\n",
    "\n",
    "service = AnswerEndpoint(fn=answer_question)\n",
    "langserve(service)\n",
    "\n",
    "\n",
    "\n"
   ]
  }
 ],
 "metadata": {
  "kernelspec": {
   "display_name": "Python 3",
   "language": "python",
   "name": "python3"
  },
  "language_info": {
   "codemirror_mode": {
    "name": "ipython",
    "version": 3
   },
   "file_extension": ".py",
   "mimetype": "text/x-python",
   "name": "python",
   "nbconvert_exporter": "python",
   "pygments_lexer": "ipython3",
   "version": "3.12.6"
  }
 },
 "nbformat": 4,
 "nbformat_minor": 2
}
